{
 "cells": [
  {
   "cell_type": "markdown",
   "metadata": {},
   "source": [
    "1. WEBSCRAPING REVIEWS FROM JUMIA\n",
    "\n",
    "link to page:https://www.reviews.io/company-reviews/store/jumia\n",
    "\n",
    "To web scrape JUMIA product reviews I will be using using Python with selenium libraries. Below is a step-by-step guide and code snippet that extracts the reviews, ratings, and other details from the HTML."
   ]
  },
  {
   "cell_type": "code",
   "execution_count": 25,
   "metadata": {},
   "outputs": [],
   "source": [
    "from selenium import webdriver\n",
    "from selenium.webdriver.chrome.service import Service\n",
    "from selenium.webdriver.common.by import By\n",
    "from selenium.webdriver.chrome.options import Options\n",
    "import pandas as pd\n",
    "import time"
   ]
  },
  {
   "cell_type": "code",
   "execution_count": 26,
   "metadata": {},
   "outputs": [
    {
     "name": "stderr",
     "output_type": "stream",
     "text": [
      "<>:4: SyntaxWarning: invalid escape sequence '\\c'\n",
      "<>:4: SyntaxWarning: invalid escape sequence '\\c'\n",
      "C:\\Users\\nolimitmide\\AppData\\Local\\Temp\\ipykernel_7780\\3728237949.py:4: SyntaxWarning: invalid escape sequence '\\c'\n",
      "  chrome_service = Service('.\\chromedriver.exe')\n"
     ]
    }
   ],
   "source": [
    "#Selenium configuration\n",
    "chrome_options = Options()\n",
    "chrome_options.add_argument(\"--headless\")\n",
    "chrome_service = Service('.\\chromedriver.exe')\n",
    "\n",
    "driver = webdriver.Chrome(service=chrome_service, options=chrome_options)"
   ]
  },
  {
   "cell_type": "code",
   "execution_count": 27,
   "metadata": {},
   "outputs": [],
   "source": [
    "#scraping reviews from the page\n",
    "def scrape_reviews_from_page(url):\n",
    "    driver.get(url)\n",
    "    time.sleep(5) #loading the page, so wait\n",
    "\n",
    "    reviews = []\n",
    "\n",
    "    review_elements = driver.find_elements(By.CSS_SELECTOR, 'div.Review')\n",
    "    for review in review_elements:\n",
    "        try:\n",
    "            author = review.find_element(By.CSS_SELECTOR, 'a.Review__author').text\n",
    "            rating = review.find_element(By.CSS_SELECTOR, 'div.Rating__stars').get_attribute('innerHTML').count('stars__icon--100')  # Count filled stars\n",
    "            review_text = review.find_element(By.CSS_SELECTOR, 'span.Review__body').text\n",
    "            date = review.find_element(By.CSS_SELECTOR, 'div.Review__dateSource').text\n",
    "            \n",
    "            reviews.append({\n",
    "                'Rating': rating,\n",
    "                'Review': review_text,\n",
    "                'Date': date,\n",
    "                'Author': author\n",
    "            })\n",
    "        except Exception as e:\n",
    "            print(f\"Error extracting review data: {e}\")\n",
    "\n",
    "    return reviews"
   ]
  },
  {
   "cell_type": "code",
   "execution_count": 28,
   "metadata": {},
   "outputs": [],
   "source": [
    "#Defining the function to scrape multiple pages so we can get 600 reviews\n",
    "def scrape_reviews(url, max_reviews=600):\n",
    "    all_reviews = []\n",
    "    page_number = 1\n",
    "\n",
    "    while len(all_reviews) < max_reviews:\n",
    "        page_url = f\"{url}?page={page_number}\"\n",
    "        reviews = scrape_reviews_from_page(page_url)\n",
    "\n",
    "        if not reviews:\n",
    "            break\n",
    "        \n",
    "        all_reviews.extend(reviews)\n",
    "        page_number += 1\n",
    "\n",
    "        #sleepto avoid server overload\n",
    "        time.sleep(5)\n",
    "\n",
    "    return all_reviews[:max_reviews]"
   ]
  },
  {
   "cell_type": "code",
   "execution_count": 29,
   "metadata": {},
   "outputs": [],
   "source": [
    "#URL\n",
    "base_url = 'https://www.reviews.io/company-reviews/store/jumia'\n",
    "reviews = scrape_reviews(base_url)"
   ]
  },
  {
   "cell_type": "code",
   "execution_count": 31,
   "metadata": {},
   "outputs": [
    {
     "name": "stdout",
     "output_type": "stream",
     "text": [
      "Reviews have been saved to reviews.csv\n"
     ]
    }
   ],
   "source": [
    "#Converting to excel format\n",
    "df = pd.DataFrame(reviews)\n",
    "df.to_csv('reviews.csv', index=False)\n",
    "print(\"Reviews have been saved to reviews.csv\")"
   ]
  },
  {
   "cell_type": "code",
   "execution_count": 32,
   "metadata": {},
   "outputs": [],
   "source": [
    "#stop the browser\n",
    "driver.quit()"
   ]
  }
 ],
 "metadata": {
  "kernelspec": {
   "display_name": "Python 3",
   "language": "python",
   "name": "python3"
  },
  "language_info": {
   "codemirror_mode": {
    "name": "ipython",
    "version": 3
   },
   "file_extension": ".py",
   "mimetype": "text/x-python",
   "name": "python",
   "nbconvert_exporter": "python",
   "pygments_lexer": "ipython3",
   "version": "3.12.3"
  }
 },
 "nbformat": 4,
 "nbformat_minor": 2
}
