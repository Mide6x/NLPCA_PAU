{
 "cells": [
  {
   "cell_type": "markdown",
   "metadata": {},
   "source": [
    "Port requirements\n",
    "doccano uses port 8000 by default. To use a different port, specify it when running doccano webserver.\n",
    "\n",
    "Install with pip\n",
    "To install doccano with pip, you need Python 3.8+. Run the following:\n",
    "\n",
    "\n",
    "pip install doccano\n",
    "After you install doccano, start the server with the following command:\n",
    "\n",
    "\n",
    "# Initialize database. First time only.\n",
    "doccano init\n",
    "# Create a super user. First time only.\n",
    "doccano createuser --username admin --password pass\n",
    "# Start a web server.\n",
    "doccano webserver --port 8000\n",
    "In another terminal, run the following command:\n",
    "\n",
    "\n",
    "# Start the task queue to handle file upload/download.\n",
    "doccano task\n",
    "Open http://localhost:8000/."
   ]
  },
  {
   "cell_type": "code",
   "execution_count": null,
   "metadata": {},
   "outputs": [],
   "source": []
  }
 ],
 "metadata": {
  "language_info": {
   "name": "python"
  }
 },
 "nbformat": 4,
 "nbformat_minor": 2
}
