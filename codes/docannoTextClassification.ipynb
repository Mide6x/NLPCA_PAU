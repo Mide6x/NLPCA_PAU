{
 "cells": [
  {
   "cell_type": "markdown",
   "metadata": {},
   "source": [
    "## Install with pip\n",
    "\n",
    "To install doccano with pip, you need Python 3.8+. Run the following:\n",
    "`pip install doccano`\n",
    "\n",
    "After you install doccano, start the server with the following command:\n",
    "\n",
    "\n",
    "- Initialize database. First time only.\n",
    "`doccano init`\n",
    "- Create a super user. First time only.\n",
    "`doccano createuser --username admin --password pass`\n",
    "- Start a web server.\n",
    "`doccano webserver --port 8000`\n",
    "\n",
    "In another terminal, run the following command:\n",
    "\n",
    "\n",
    "-Start the task queue to handle file upload/download.\n",
    "`doccano task`\n",
    "\n",
    "Open http://localhost:8000/."
   ]
  },
  {
   "cell_type": "markdown",
   "metadata": {},
   "source": []
  }
 ],
 "metadata": {
  "language_info": {
   "name": "python"
  }
 },
 "nbformat": 4,
 "nbformat_minor": 2
}
